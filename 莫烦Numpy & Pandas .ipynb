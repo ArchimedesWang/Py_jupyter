{
 "cells": [
  {
   "cell_type": "markdown",
   "id": "b247da6e-3daa-458e-b20b-e9019383c704",
   "metadata": {},
   "source": [
    "## 莫烦Numpy&Pands"
   ]
  },
  {
   "cell_type": "markdown",
   "id": "fd6b11dc-2246-46a1-bb9a-6bee7e214b06",
   "metadata": {},
   "source": [
    "Q:为什么使用numpy和pandas  \n",
    "1.运算速度快：numpy和pandas都是采用C语言编写, pandas是numpy的升级版本  \r",
    "2.\n",
    "消耗资源少：采用的是矩阵运多"
   ]
  },
  {
   "cell_type": "code",
   "execution_count": 1,
   "id": "1c2e6627-4a7c-47c3-9456-dde06835b328",
   "metadata": {},
   "outputs": [],
   "source": [
    "import numpy as np\n",
    "import pandas"
   ]
  },
  {
   "cell_type": "markdown",
   "id": "795c402c-7f11-4f1a-b233-38330183e24b",
   "metadata": {},
   "source": [
    "### 1. numpy\n",
    "#### 1.1 numpy属性\n",
    "* `ndim`：维度\n",
    "* `shape`：行数和列数\n",
    "* `size`：元素个数"
   ]
  },
  {
   "cell_type": "code",
   "execution_count": 2,
   "id": "282b5fe6-c2e0-4f3a-a413-93d5fa985a49",
   "metadata": {},
   "outputs": [
    {
     "name": "stdout",
     "output_type": "stream",
     "text": [
      "dim:2\n",
      "shape:(3, 3)\n",
      "size:9\n"
     ]
    }
   ],
   "source": [
    "import numpy as np\n",
    "\n",
    "a_list = [[1, 2, 3],\n",
    "          [4, 5, 6],\n",
    "          [7, 8, 9]]\n",
    "a_array = np.array(a_list)\n",
    "#维度\n",
    "print(f\"dim:{a_array.ndim}\")\n",
    "#形状\n",
    "print(f\"shape:{a_array.shape}\")\n",
    "#元素个数\n",
    "print(f\"size:{a_array.size}\")"
   ]
  },
  {
   "cell_type": "markdown",
   "id": "886df03b-2829-4eaa-a859-2c93f550f1b5",
   "metadata": {},
   "source": [
    "#### 1.2 Numpy的创建array\n",
    "* 指定数据 dtype\n",
    "* 特定数据\n"
   ]
  },
  {
   "cell_type": "markdown",
   "id": "064bea02-96c0-4549-a649-c41ed60f993d",
   "metadata": {},
   "source": [
    "**指定数据类型dtype**"
   ]
  },
  {
   "cell_type": "code",
   "execution_count": 16,
   "id": "97eb655e-e2e2-4b1f-90f6-2e2fddbd0ba8",
   "metadata": {},
   "outputs": [
    {
     "name": "stdout",
     "output_type": "stream",
     "text": [
      "float64\n"
     ]
    }
   ],
   "source": [
    "import numpy as np\n",
    "#指定数据类型dtype\n",
    "a = np.array([1, 2, 3, 4], dtype = float) #int默认32位，float默认64位\n",
    "print(a.dtype)"
   ]
  },
  {
   "cell_type": "markdown",
   "id": "4456ab3f-588b-4079-9048-d67e0851addd",
   "metadata": {},
   "source": [
    "**特定数据**"
   ]
  },
  {
   "cell_type": "code",
   "execution_count": 12,
   "id": "83fd831d-2b55-433d-9470-7a7f7688cda8",
   "metadata": {},
   "outputs": [
    {
     "name": "stdout",
     "output_type": "stream",
     "text": [
      "[[0. 0. 0. 0. 0.]\n",
      " [0. 0. 0. 0. 0.]\n",
      " [0. 0. 0. 0. 0.]\n",
      " [0. 0. 0. 0. 0.]]\n"
     ]
    }
   ],
   "source": [
    "import numpy as np\n",
    "#全0数组\n",
    "a = np.zeros((4, 5)) \n",
    "print(a)"
   ]
  },
  {
   "cell_type": "code",
   "execution_count": 3,
   "id": "867f4474-8373-4ee0-a66b-671e5cd565ca",
   "metadata": {},
   "outputs": [
    {
     "name": "stdout",
     "output_type": "stream",
     "text": [
      "[[1 1 1 1]\n",
      " [1 1 1 1]\n",
      " [1 1 1 1]]\n",
      "[[3. 3. 3. 3.]\n",
      " [3. 3. 3. 3.]\n",
      " [3. 3. 3. 3.]\n",
      " [3. 3. 3. 3.]]\n"
     ]
    }
   ],
   "source": [
    "import numpy as np\n",
    "#全1数组, 且能指定数据dtype\n",
    "a = np.ones((3, 4), dtype = int)\n",
    "print(a)\n",
    "#全3数组\n",
    "a3 = 3 * np.ones((4, 4), dtype = float)\n",
    "print(a3)"
   ]
  },
  {
   "cell_type": "code",
   "execution_count": 20,
   "id": "b2d56b0f-6d14-4350-b426-bbb263d8c1b0",
   "metadata": {},
   "outputs": [
    {
     "name": "stdout",
     "output_type": "stream",
     "text": [
      "[[0. 0. 0. 0.]\n",
      " [0. 0. 0. 0.]]\n"
     ]
    }
   ],
   "source": [
    "import numpy as np\n",
    "#全空数组\n",
    "#由于空数组的元素值不会被初始化，所以元素值取决于内存状态\n",
    "#处理大量数据节省初始化的时间\n",
    "a = np.empty((2, 4))\n",
    "print(a)"
   ]
  },
  {
   "attachments": {
    "f058ff91-48a2-4f0e-9154-8f2eb6fcbcac.png": {
     "image/png": "[encoded data removed]"
    }
   },
   "cell_type": "markdown",
   "id": "f13bc1a5-94b4-4671-9d80-1131b211bba8",
   "metadata": {},
   "source": [
    "![image.png](attachment:f058ff91-48a2-4f0e-9154-8f2eb6fcbcac.png)"
   ]
  },
  {
   "cell_type": "code",
   "execution_count": 4,
   "id": "a0bf2d67-bc0f-409c-a33b-02ed0c1d872e",
   "metadata": {},
   "outputs": [
    {
     "name": "stdout",
     "output_type": "stream",
     "text": [
      "[ 0  2  4  6  8 10]\n",
      "[ 0.  2.  4.  6.  8. 10.]\n"
     ]
    }
   ],
   "source": [
    "import numpy as np\n",
    "#arange创建连续数组\n",
    "a = np.arange(0, 11, 2)\n",
    "print(a)\n",
    "\n",
    "#linspace创建线段型数据 左闭右闭\n",
    "b = np.linspace(0, 10, 6)\n",
    "print(b)"
   ]
  },
  {
   "cell_type": "markdown",
   "id": "078c8c78-79e1-4f64-97c5-1570647c3b92",
   "metadata": {},
   "source": [
    "**改变数据的形状**"
   ]
  },
  {
   "cell_type": "code",
   "execution_count": 7,
   "id": "4456b40a-a554-4452-a4f2-70153f174bf4",
   "metadata": {},
   "outputs": [
    {
     "name": "stdout",
     "output_type": "stream",
     "text": [
      "[0 1 2 3 4 5 6 7 8 9]\n",
      "[[0 1 2 3 4]\n",
      " [5 6 7 8 9]]\n",
      "[[0 1 2 3 4]\n",
      " [5 6 7 8 9]]\n",
      "[[0 1 2 3]\n",
      " [4 5 6 7]\n",
      " [8 9 0 1]]\n"
     ]
    }
   ],
   "source": [
    "import numpy as np\n",
    "\n",
    "a = np.arange(0, 10)\n",
    "print(a)\n",
    "#reshape\n",
    "a_reshape = a.reshape(2, 5)\n",
    "print(a_reshape)\n",
    "a_reshape1 = a.reshape(2, -1) #通过-1自动计算\n",
    "print(a_reshape1)\n",
    "\n",
    "#resize\n",
    "a1 = np.arange(0, 10)\n",
    "a_resize = np.resize(a1, (3, 4))\n",
    "print(a_resize)"
   ]
  },
  {
   "cell_type": "markdown",
   "id": "9ab1f383-cf3c-4194-8815-aea35bc65a55",
   "metadata": {},
   "source": [
    "#### 1.2 基础运算1\n",
    "* 基本运算：加、减、乘、除、乘方\n",
    "* 比较\n",
    "* 矩阵相乘\n",
    "* 随机数\n",
    "* 最大、最小、求和"
   ]
  },
  {
   "cell_type": "markdown",
   "id": "464214bf-e215-4894-be83-728e7888e1cd",
   "metadata": {},
   "source": [
    "**基本运算**"
   ]
  },
  {
   "cell_type": "code",
   "execution_count": 45,
   "id": "56080b6c-fef6-4460-ad59-cacab028325d",
   "metadata": {},
   "outputs": [
    {
     "name": "stdout",
     "output_type": "stream",
     "text": [
      "a+1:\n",
      "[[2 3 4]\n",
      " [5 6 7]]\n",
      "a+c:\n",
      "[[2 4 6]\n",
      " [5 7 9]]\n",
      "c+d:\n",
      "[[2. 3. 4.]\n",
      " [2. 3. 4.]\n",
      " [2. 3. 4.]]\n",
      "a:\n",
      "[[1 2 3]\n",
      " [4 5 6]]\n",
      "b:\n",
      "[[10 12 14]\n",
      " [16 18 20]]\n",
      "a+b:\n",
      "[[11 14 17]\n",
      " [20 23 26]]\n",
      "a-b:\n",
      "[[ -9 -10 -11]\n",
      " [-12 -13 -14]]\n",
      "a*b:\n",
      " [[ 10  24  42]\n",
      " [ 64  90 120]]\n",
      "a/b:\n",
      "[[0.1        0.16666667 0.21428571]\n",
      " [0.25       0.27777778 0.3       ]]\n",
      "a^2:\n",
      "[[ 1  4  9]\n",
      " [16 25 36]]\n"
     ]
    }
   ],
   "source": [
    "import numpy as np\n",
    "#基本运算\n",
    "a = np.array([[1, 2, 3],\n",
    "              [4, 5, 6]])\n",
    "b = np.arange(10, 22, 2).reshape(2, 3)\n",
    "c = np.arange(1,4)\n",
    "d = np.ones((3, 1))\n",
    "\n",
    "#广播功能\n",
    "print(f\"a+1:\\n{a+1}\")\n",
    "print(f\"a+c:\\n{a+c}\")\n",
    "print(f\"c+d:\\n{c+d}\")\n",
    "\n",
    "#按元素运算\n",
    "print(f\"a:\\n{a}\")\n",
    "print(f\"b:\\n{b}\")\n",
    "print(f\"a+b:\\n{a+b}\")\n",
    "print(f\"a-b:\\n{a-b}\")\n",
    "print(f\"a*b:\\n {a*b}\")\n",
    "print(f\"a/b:\\n{a/b}\")\n",
    "print(f\"a^2:\\n{a**2}\")"
   ]
  },
  {
   "cell_type": "markdown",
   "id": "bc9aadb0-28cc-430c-8a2c-d178c2d6b80c",
   "metadata": {},
   "source": [
    "**科学计算&比较**"
   ]
  },
  {
   "cell_type": "code",
   "execution_count": 6,
   "id": "150e378f-7fbf-4b73-9661-36f9dfe51e66",
   "metadata": {},
   "outputs": [
    {
     "name": "stdout",
     "output_type": "stream",
     "text": [
      "[0.         0.84147098 0.90929743 0.14112001]\n",
      "[ 1.          0.54030231 -0.41614684 -0.9899925 ]\n",
      "[ 1.          2.71828183  7.3890561  20.08553692]\n",
      "[False False  True  True]\n"
     ]
    }
   ],
   "source": [
    "import numpy as np\n",
    "#科学计算\n",
    "a = np.array([0, 1, 2, 3])\n",
    "a_sin = np.sin(a)\n",
    "a_cos = np.cos(a) \n",
    "a_exp = np.exp(a)\n",
    "\n",
    "print(a_sin)\n",
    "print(a_cos)\n",
    "print(a_exp)\n",
    "\n",
    "#比较\n",
    "print(a>1)"
   ]
  },
  {
   "cell_type": "markdown",
   "id": "e979d266-10e2-49d4-a371-80abc58a239d",
   "metadata": {},
   "source": [
    "**矩阵相乘**"
   ]
  },
  {
   "cell_type": "code",
   "execution_count": 11,
   "id": "7c945334-643a-45f1-9bfd-d4d4711c2bb6",
   "metadata": {},
   "outputs": [
    {
     "name": "stdout",
     "output_type": "stream",
     "text": [
      "[[ 5 12]\n",
      " [ 0 32]]\n",
      "[[ 5 22]\n",
      " [15 50]]\n",
      "[[ True  True]\n",
      " [ True  True]]\n"
     ]
    }
   ],
   "source": [
    "import numpy as np\n",
    "a = np.array([[1, 2],\n",
    "              [3, 4]])\n",
    "\n",
    "b = np.array([[5, 6],\n",
    "              [0, 8]])\n",
    "#矩阵点乘\n",
    "c = a * b\n",
    "\n",
    "#矩阵叉乘\n",
    "d1 = a.dot(b)\n",
    "d2 = np.dot(a, b)\n",
    "\n",
    "print(c)\n",
    "print(d1)\n",
    "print(d1 == d2)"
   ]
  },
  {
   "cell_type": "markdown",
   "id": "978563ca-428b-4963-a667-74f0bab9fb3f",
   "metadata": {},
   "source": [
    "**随机数&最值&求和**"
   ]
  },
  {
   "cell_type": "code",
   "execution_count": 3,
   "id": "13cefb4d-d8f2-4816-aef0-8c4bf9f7c3fd",
   "metadata": {},
   "outputs": [
    {
     "name": "stdout",
     "output_type": "stream",
     "text": [
      "[[0.3360521  0.27578583 0.43595658 0.82868848]\n",
      " [0.51438019 0.39791852 0.22470623 0.91793478]\n",
      " [0.6391695  0.21476163 0.80053318 0.907497  ]]\n",
      "[[ 0.12958692 -1.0136091   0.77165132 -0.19239654]\n",
      " [-2.15578235  1.30796987  0.41828723 -0.20038654]\n",
      " [-0.09614169 -0.41959327  2.2725959  -1.66037421]]\n",
      "0.21476163090301548\n",
      "0.917934778904807\n",
      "6.493384030266794\n",
      "[1.4896018  0.88846598 1.46119599 2.65412026]\n",
      "[1.87648299 2.05493973 2.56196132]\n"
     ]
    }
   ],
   "source": [
    "import numpy as np\n",
    "#产生0-1之间的随机数\n",
    "a = np.random.random((3, 4))\n",
    "print(a)\n",
    "#均值为0、标准差为1的标准高斯分布（正态分布）中随机采样\n",
    "b = np.random.normal(0, 1, size=(3, 4))\n",
    "print(b)\n",
    "\n",
    "print(np.min(a)) #最大\n",
    "print(np.max(a)) #最小\n",
    "print(np.sum(a)) #求和\n",
    "\n",
    "print(np.sum(a, axis=0)) #按列求和\n",
    "print(np.sum(a, axis=1)) #按行求和"
   ]
  },
  {
   "cell_type": "markdown",
   "id": "5a0d60cb-d308-4117-bcd7-f8773bd75cc8",
   "metadata": {},
   "source": [
    "#### 1.3 基础运算2\n",
    "* 索引\n",
    "* 统计计算\n",
    "* 其它"
   ]
  },
  {
   "cell_type": "markdown",
   "id": "fa5bcaac-2323-4127-872b-c65455cb5c54",
   "metadata": {},
   "source": [
    "**索引**"
   ]
  },
  {
   "cell_type": "code",
   "execution_count": 54,
   "id": "cc1ce73c-2d0b-469e-95aa-79543c1336e9",
   "metadata": {},
   "outputs": [
    {
     "name": "stdout",
     "output_type": "stream",
     "text": [
      "[[12 11 10  9]\n",
      " [ 8  7  6  5]\n",
      " [ 4  3  2  1]]\n",
      "11\n",
      "0\n"
     ]
    }
   ],
   "source": [
    "import numpy as np\n",
    "\n",
    "a = np.arange(12, 0, -1).reshape(3, 4)\n",
    "print(a)\n",
    "\n",
    "print(a.argmin()) #最小值索引\n",
    "print(a.argmax()) #最大值索引"
   ]
  },
  {
   "cell_type": "markdown",
   "id": "94c4f884-cf4c-42cf-995c-a3a49cb1fcdb",
   "metadata": {},
   "source": [
    "**统计计算**"
   ]
  },
  {
   "cell_type": "code",
   "execution_count": 16,
   "id": "7ae32b90-b76b-4852-a776-758351085047",
   "metadata": {},
   "outputs": [
    {
     "name": "stdout",
     "output_type": "stream",
     "text": [
      "[[12 11 10  9]\n",
      " [ 8  7  6  5]\n",
      " [ 4  3  2  1]]\n",
      "6.5\n",
      "6.5\n",
      "6.5\n",
      "6.5\n",
      "[12 23 33 42 50 57 63 68 72 75 77 78]\n",
      "[[-1 -1 -1]\n",
      " [-1 -1 -1]\n",
      " [-1 -1 -1]]\n",
      "(array([0, 0, 0, 0, 1, 1, 1, 1, 2, 2, 2, 2], dtype=int64), array([0, 1, 2, 3, 0, 1, 2, 3, 0, 1, 2, 3], dtype=int64))\n"
     ]
    }
   ],
   "source": [
    "import numpy as np\n",
    "\n",
    "a = np.arange(12, 0, -1).reshape(3, 4)\n",
    "print(a)\n",
    "\n",
    "print(a.mean())     \n",
    "print(np.mean(a)) #平均值   \n",
    "print(np.average(a)) #平均值 可以求加权平均值\n",
    "\n",
    "print(np.median(a)) #中位数 \n",
    "\n",
    "print(np.cumsum(a)) #累加\n",
    "print(np.diff(a)) #累差\n",
    "\n",
    "print(np.nonzero(a)) #矩阵内非0的元素的坐标"
   ]
  },
  {
   "cell_type": "markdown",
   "id": "98598096-5eb7-442b-b9a9-777d8352bef4",
   "metadata": {},
   "source": [
    "**其它**"
   ]
  },
  {
   "cell_type": "code",
   "execution_count": 17,
   "id": "6c085d43-fb19-46de-be72-3a8e119f94eb",
   "metadata": {},
   "outputs": [
    {
     "name": "stdout",
     "output_type": "stream",
     "text": [
      "[[12 11 10  9]\n",
      " [ 8  7  6  5]\n",
      " [ 4  3  2  1]]\n",
      "[[ 9 10 11 12]\n",
      " [ 5  6  7  8]\n",
      " [ 1  2  3  4]]\n",
      "[[12  8  4]\n",
      " [11  7  3]\n",
      " [10  6  2]\n",
      " [ 9  5  1]]\n",
      "[[12  8  4]\n",
      " [11  7  3]\n",
      " [10  6  2]\n",
      " [ 9  5  1]]\n",
      "[[8 8 8 8]\n",
      " [8 7 6 5]\n",
      " [4 4 4 4]]\n"
     ]
    }
   ],
   "source": [
    "import numpy as np\n",
    "\n",
    "a = np.arange(12, 0, -1).reshape(3, 4)\n",
    "print(a)\n",
    "\n",
    "print(np.sort(a)) #从小到大排序 \n",
    "print(np.transpose(a)) #转置 \n",
    "print(a.T) #转置 \n",
    "print(np.clip(a, 4, 8)) #比4小的元素置4，比8大的元素置8，其余不变   "
   ]
  },
  {
   "cell_type": "markdown",
   "id": "7d41dc7f-80c8-4c0a-bf36-63f272bfef5f",
   "metadata": {},
   "source": [
    "#### 1.4 Numpy索引与切片\n",
    "* 一维索引\n",
    "* 二维索引\n",
    "* 切片"
   ]
  },
  {
   "cell_type": "markdown",
   "id": "4d45c3d4-c4cc-4eb7-af87-64571b65926c",
   "metadata": {},
   "source": [
    "**一维索引**"
   ]
  },
  {
   "cell_type": "code",
   "execution_count": 90,
   "id": "62010bae-c692-4b86-95db-65073141bc72",
   "metadata": {},
   "outputs": [
    {
     "name": "stdout",
     "output_type": "stream",
     "text": [
      "[ 1  2  3  4  5  6  7  8  9 10 11 12]\n",
      "1\n"
     ]
    }
   ],
   "source": [
    "import numpy as np\n",
    "\n",
    "a = np.arange(1, 13)\n",
    "print(a)\n",
    "print(a[0])"
   ]
  },
  {
   "cell_type": "markdown",
   "id": "bcb81a8e-45b5-41b0-9066-782ad15cd871",
   "metadata": {},
   "source": [
    "**二维索引**"
   ]
  },
  {
   "cell_type": "code",
   "execution_count": 89,
   "id": "19efcc35-d851-426d-8447-c01b08144175",
   "metadata": {},
   "outputs": [
    {
     "name": "stdout",
     "output_type": "stream",
     "text": [
      "[[ 1  2  3  4]\n",
      " [ 5  6  7  8]\n",
      " [ 9 10 11 12]]\n",
      "[ 9 10 11 12]\n",
      "7\n",
      "7\n"
     ]
    }
   ],
   "source": [
    "import numpy as np\n",
    "\n",
    "a = np.arange(1, 13).reshape(3, 4)\n",
    "print(a)\n",
    "\n",
    "print(a[2])\n",
    "print(a[1, 2])\n",
    "print(a[1][2])"
   ]
  },
  {
   "cell_type": "markdown",
   "id": "3f6645da-097b-47ae-a81e-a4974450b02c",
   "metadata": {},
   "source": [
    "**切片**"
   ]
  },
  {
   "cell_type": "code",
   "execution_count": 18,
   "id": "d3250742-c0d5-4e11-ad90-0fdb1d204144",
   "metadata": {},
   "outputs": [
    {
     "name": "stdout",
     "output_type": "stream",
     "text": [
      "[[ 1  2  3  4]\n",
      " [ 5  6  7  8]\n",
      " [ 9 10 11 12]]\n",
      "[ 3  7 11]\n",
      "[5 6 7 8]\n",
      "[3 7]\n",
      "[[ 5.  6.  7.  8.]\n",
      " [ 9. 10. 11. 12.]]\n"
     ]
    }
   ],
   "source": [
    "import numpy as np\n",
    "\n",
    "a = np.arange(1, 13).reshape(3, 4)\n",
    "print(a)\n",
    "\n",
    "print(a[:, 2])\n",
    "print(a[1, :])\n",
    "print(a[0:2, 2])\n",
    "\n",
    "futures = np.zeros((2, 4))\n",
    "for i in range(2):\n",
    "    futures[i, :] = a[i+1, :]\n",
    "print(futures)"
   ]
  },
  {
   "cell_type": "code",
   "execution_count": 19,
   "id": "23b0b22a-85f9-494d-9b7e-a63451f139f4",
   "metadata": {},
   "outputs": [
    {
     "name": "stdout",
     "output_type": "stream",
     "text": [
      "[[ 1  2  3  4]\n",
      " [ 5  6  7  8]\n",
      " [ 9 10 11 12]]\n",
      "[1 2 3 4]\n",
      "[5 6 7 8]\n",
      "[ 9 10 11 12]\n",
      "[1 5 9]\n",
      "[ 2  6 10]\n",
      "[ 3  7 11]\n",
      "[ 4  8 12]\n"
     ]
    }
   ],
   "source": [
    "import numpy as np\n",
    "\n",
    "a = np.arange(1, 13).reshape(3, 4)\n",
    "print(a)\n",
    "\n",
    "#逐行打印\n",
    "for row in a:\n",
    "    print(row)\n",
    "    \n",
    "#逐列打印（转置再逐行输出）\n",
    "for column in a.T:\n",
    "    print(column)"
   ]
  },
  {
   "cell_type": "code",
   "execution_count": 95,
   "id": "40f3f555-b1e6-487e-8390-7a87642102e9",
   "metadata": {},
   "outputs": [
    {
     "name": "stdout",
     "output_type": "stream",
     "text": [
      "[ 1  2  3  4  5  6  7  8  9 10 11 12]\n",
      "1\n",
      "2\n",
      "3\n",
      "4\n",
      "5\n",
      "6\n",
      "7\n",
      "8\n",
      "9\n",
      "10\n",
      "11\n",
      "12\n"
     ]
    }
   ],
   "source": [
    "import numpy as np\n",
    "a = np.arange(1,13).reshape((3,4))\n",
    "         \n",
    "print(a.flatten()) #将多维矩阵进行展开成1行的数列  \n",
    "\n",
    "for item in a.flat:\n",
    "    print(item)"
   ]
  },
  {
   "cell_type": "markdown",
   "id": "4f669fd6-3679-4983-a37a-d4fe7ab09773",
   "metadata": {},
   "source": [
    "#### 1.5 Numpy array合并"
   ]
  },
  {
   "cell_type": "code",
   "execution_count": 20,
   "id": "50182339-c8cf-422f-8627-62746e1d7a29",
   "metadata": {},
   "outputs": [
    {
     "name": "stdout",
     "output_type": "stream",
     "text": [
      "[[1 2 3]\n",
      " [4 5 6]]\n",
      "[1 2 3 4 5 6]\n"
     ]
    }
   ],
   "source": [
    "import numpy as np\n",
    "\n",
    "A = np.array([1, 2, 3])\n",
    "B = np.array([4, 5, 6])\n",
    "          \n",
    "print(np.vstack((A, B))) #上下合并\n",
    "print(np.hstack((A,B)))  #左右合并"
   ]
  },
  {
   "cell_type": "code",
   "execution_count": 8,
   "id": "a1734c6e-2608-455c-841d-3421415bcbd2",
   "metadata": {},
   "outputs": [
    {
     "name": "stdout",
     "output_type": "stream",
     "text": [
      "[1 2 3]\n",
      "(3,)\n",
      "[[1 2 3]]\n",
      "(1, 3)\n",
      "[[1]\n",
      " [2]\n",
      " [3]]\n",
      "(3, 1)\n"
     ]
    }
   ],
   "source": [
    "import numpy as np\n",
    "#np.newaxis()\n",
    "A = np.array([1, 2, 3])\n",
    "print(A.T)\n",
    "print(A.shape)\n",
    "#转置 将一维数组变成二维数组(指定位置增加一个新的维度)\n",
    "print(A[np.newaxis, :]) #一行三列\n",
    "print(A[np.newaxis, :].shape) \n",
    "\n",
    "print(A[:, np.newaxis]) #三行一列\n",
    "print(A[:, np.newaxis].shape) "
   ]
  },
  {
   "cell_type": "code",
   "execution_count": 17,
   "id": "04f048b9-0d09-4607-87fc-e7cf7eeb0616",
   "metadata": {},
   "outputs": [
    {
     "name": "stdout",
     "output_type": "stream",
     "text": [
      "[[1]\n",
      " [1]\n",
      " [1]\n",
      " [2]\n",
      " [2]\n",
      " [2]]\n",
      "[[1 2]\n",
      " [1 2]\n",
      " [1 2]]\n",
      "(3, 1) (3, 2)\n"
     ]
    }
   ],
   "source": [
    "import numpy as np\n",
    "\n",
    "A = np.array([1, 1, 1])[:, np.newaxis]\n",
    "B = np.array([2, 2, 2])[:, np.newaxis]\n",
    "         \n",
    "C = np.vstack((A, B)) #纵向\n",
    "D = np.hstack((A, B)) #横向\n",
    "\n",
    "print(C)\n",
    "print(D)\n",
    "\n",
    "print(A.shape, D.shape)"
   ]
  },
  {
   "cell_type": "code",
   "execution_count": 1,
   "id": "ce44b2a3-8922-4c96-9876-a13041712fed",
   "metadata": {},
   "outputs": [
    {
     "name": "stdout",
     "output_type": "stream",
     "text": [
      "[[1]\n",
      " [1]\n",
      " [1]\n",
      " [2]\n",
      " [2]\n",
      " [2]\n",
      " [2]\n",
      " [2]\n",
      " [2]\n",
      " [1]\n",
      " [1]\n",
      " [1]]\n",
      "[[1 2 2 1]\n",
      " [1 2 2 1]\n",
      " [1 2 2 1]]\n"
     ]
    }
   ],
   "source": [
    "import numpy as np\n",
    "\n",
    "A = np.array([1,1,1])[:, np.newaxis]\n",
    "B = np.array([2,2,2])[:, np.newaxis]\n",
    "\n",
    "C = np.concatenate((A, B, B, A), axis=0) #纵向\n",
    "print(C)\n",
    "D = np.concatenate((A, B, B, A), axis=1) #横向\n",
    "print(D)"
   ]
  },
  {
   "cell_type": "markdown",
   "id": "f065b2d4-da26-42ea-89d1-c094a6a3006c",
   "metadata": {},
   "source": [
    "#### 1.6 Numpy array分割"
   ]
  },
  {
   "cell_type": "code",
   "execution_count": 16,
   "id": "366a4013-7100-4e99-9e47-6c8eeae29cae",
   "metadata": {},
   "outputs": [
    {
     "name": "stdout",
     "output_type": "stream",
     "text": [
      "[[ 0  1  2  3]\n",
      " [ 4  5  6  7]\n",
      " [ 8  9 10 11]]\n",
      "[array([[0, 1, 2, 3]]), array([[4, 5, 6, 7]]), array([[ 8,  9, 10, 11]])]\n",
      "[array([[0, 1],\n",
      "       [4, 5],\n",
      "       [8, 9]]), array([[ 2,  3],\n",
      "       [ 6,  7],\n",
      "       [10, 11]])]\n"
     ]
    }
   ],
   "source": [
    "import numpy as np\n",
    "\n",
    "A = np.arange(12).reshape((3, 4))\n",
    "print(A)\n",
    "\n",
    "print(np.vsplit(A, 3))\n",
    "print(np.hsplit(A, 2)) "
   ]
  },
  {
   "cell_type": "code",
   "execution_count": 22,
   "id": "8f9b32cd-7109-44d1-be81-9e28920f0467",
   "metadata": {},
   "outputs": [
    {
     "name": "stdout",
     "output_type": "stream",
     "text": [
      "[[ 0  1  2  3]\n",
      " [ 4  5  6  7]\n",
      " [ 8  9 10 11]]\n",
      "[array([[0, 1, 2, 3]]), array([[4, 5, 6, 7]]), array([[ 8,  9, 10, 11]])]\n",
      "[array([[0, 1],\n",
      "       [4, 5],\n",
      "       [8, 9]]), array([[ 2,  3],\n",
      "       [ 6,  7],\n",
      "       [10, 11]])]\n",
      "[array([[0, 1],\n",
      "       [4, 5],\n",
      "       [8, 9]]), array([[ 2],\n",
      "       [ 6],\n",
      "       [10]]), array([[ 3],\n",
      "       [ 7],\n",
      "       [11]])]\n"
     ]
    }
   ],
   "source": [
    "import numpy as np\n",
    "\n",
    "A = np.arange(12).reshape((3, 4))\n",
    "print(A)\n",
    "\n",
    "print(np.split(A, 3, axis=0)) #横向分割\n",
    "print(np.split(A, 2, axis=1)) #纵向分割\n",
    "print(np.array_split(A, 3, axis=1)) #不等量的分割"
   ]
  },
  {
   "cell_type": "markdown",
   "id": "7c6576a0-c222-4663-b8ab-2ad30fc31d9a",
   "metadata": {},
   "source": [
    "#### 1.7 Numpy copy & deep copy"
   ]
  },
  {
   "cell_type": "code",
   "execution_count": 32,
   "id": "97278ce7-13fd-4a9e-bd96-c8af4e7363d1",
   "metadata": {},
   "outputs": [
    {
     "data": {
      "text/plain": [
       "True"
      ]
     },
     "execution_count": 32,
     "metadata": {},
     "output_type": "execute_result"
    }
   ],
   "source": [
    "import numpy as np\n",
    "\n",
    "a = np.arange(4)\n",
    "b = a \n",
    "id(a) == id(b)"
   ]
  },
  {
   "cell_type": "code",
   "execution_count": 37,
   "id": "588bf490-408b-49c2-bd03-4f6f59a34660",
   "metadata": {},
   "outputs": [
    {
     "data": {
      "text/plain": [
       "False"
      ]
     },
     "execution_count": 37,
     "metadata": {},
     "output_type": "execute_result"
    }
   ],
   "source": [
    "import numpy as np\n",
    "\n",
    "a = np.arange(4)\n",
    "b = a.copy()\n",
    "id(a) == id(b)    "
   ]
  },
  {
   "cell_type": "markdown",
   "id": "bfe69348-f65c-4cd1-b307-9c0661e0172b",
   "metadata": {},
   "source": [
    "**多维数组转换为Python标量**"
   ]
  },
  {
   "cell_type": "code",
   "execution_count": 34,
   "id": "b0022e25-30b8-440f-86fd-f4136f4112ac",
   "metadata": {},
   "outputs": [
    {
     "data": {
      "text/plain": [
       "(array([3.5]), 3.5, 3.5, 3)"
      ]
     },
     "execution_count": 34,
     "metadata": {},
     "output_type": "execute_result"
    }
   ],
   "source": [
    "import numpy as np\n",
    "\n",
    "a = np.array([3.5])\n",
    "a, a.item(), float(a), int(a)"
   ]
  },
  {
   "cell_type": "markdown",
   "id": "64ddbd8e-2a2d-4c56-9c60-0e4f8fab167c",
   "metadata": {},
   "source": [
    "### 2. Pandas\n",
    "#### 2.1 Pandas基本介绍\n",
    "* Series:类似表格中的一个列，是一维的，带标签(索引)，可存储整数、浮点数、字符串、Python 对象等类型的数据\n",
    "* DataFrame：一个表格型的数据结构引标签（行索引，列索引）"
   ]
  },
  {
   "cell_type": "markdown",
   "id": "4e5c6130-7437-403b-a3fb-8435dd757b43",
   "metadata": {},
   "source": [
    "**Series数据类型**"
   ]
  },
  {
   "cell_type": "markdown",
   "id": "3248c3bb-9911-44c5-8416-5b7f4d324fe6",
   "metadata": {},
   "source": [
    "pandas.Series(data=None, index=None, dtype=None, name=None, copy=False, fastpath=False)\n",
    "* data：Series的数据部分，可以是列表、数组、字典、标量值等。如果不提供此参数，则创建一个空的Series\n",
    "* index：Series的索引部分，用于对数据进行标记。可以是列表、数组、索引对象等。如果不提供此参数，则创建一个默认的整数索引\n",
    "* dtype：指定Series的数据类型。可以是NumPy的数据类型，例如np.int64、np.float64 等。如果不提供此参数，则根据数据自动推断数据类型\n",
    "* name：Series的名称，用于标识Series对象。如果提供了此参数，则创建的Series对象将具有指定的名称\n",
    "* copy：是否复制数据。默认为False，表示不复制数据。如果设置为True，则复制输入的数据\n",
    "* fastpath：是否启用快速路径。默认为False。启用快速路径可能会在某些情况下提高性能"
   ]
  },
  {
   "cell_type": "code",
   "execution_count": 3,
   "id": "77888bee-0fa5-48f5-a8cd-9d910be6c3bc",
   "metadata": {},
   "outputs": [
    {
     "name": "stdout",
     "output_type": "stream",
     "text": [
      "5       1\n",
      "6    jack\n",
      "7     3.6\n",
      "8       a\n",
      "9     NaN\n",
      "dtype: object\n"
     ]
    }
   ],
   "source": [
    "import pandas as pd\n",
    "import numpy as np\n",
    "\n",
    "a = pd.Series([1, 'jack', 3.6, 'a', np.nan], index=np.arange(5, 10)) \n",
    "print(a)"
   ]
  },
  {
   "cell_type": "markdown",
   "id": "f60076cc-2a34-462b-ab6f-1e28cbd2f995",
   "metadata": {},
   "source": [
    "**DataFrame数据类型**"
   ]
  },
  {
   "cell_type": "markdown",
   "id": "19104908-f317-44fe-826b-477863e3693d",
   "metadata": {},
   "source": [
    "pandas.date_range(start=None, end=None, periods=None, freq=None, tz=None, normalize=False, name=None,closed=None,**kwargs)\n",
    "\n",
    "* 常用参数为start、end、periods、freq\n",
    "* start：指定生成时间序列的开始时间\n",
    "* end：指定生成时间序列的结束时间\n",
    "* periods：指定生成时间序列的数量\n",
    "* freq：生成频率，默认‘D’，可以是’H’、‘D’、‘M’、‘5H’、‘10D’、…"
   ]
  },
  {
   "cell_type": "markdown",
   "id": "f9dde57c-fd3a-4ae3-adf6-1ebdb9b8d85a",
   "metadata": {},
   "source": [
    "pandas.DataFrame(data=None, index=None, columns=None, dtype=None, copy=False)\n",
    "* data：DataFrame 的数据部分，可以是字典、二维数组、Series、DataFrame 或其他可转换为 DataFrame 的对象。如果不提供此参数,则创建一个空的 DataFrame\n",
    "* index：DataFrame 的行索引，用于标识每行数据。可以是列表、数组、索引对象等。如果不提供此参数，则创建一个默认的整数索引\n",
    "* columns：DataFrame 的列索引，用于标识每列数据。可以是列表、数组、索引对象等。如果不提供此参数，则创建一个默认的整数索引\n",
    "* dtype：指定 DataFrame 的数据类型。可以是 NumPy 的数据类型，例如 np.int64、np.float64 等。如果不提供此参数，则根据数据自动推断数据类型\n",
    "* copy：是否复制数据。默认为 False，表示不复制数据。如果设置为 True，则复制输入的数据"
   ]
  },
  {
   "cell_type": "code",
   "execution_count": 39,
   "id": "cf72bb6b-d0c1-46ec-9918-e07bc04067f7",
   "metadata": {},
   "outputs": [
    {
     "name": "stdout",
     "output_type": "stream",
     "text": [
      "            a  b   c   d\n",
      "2024-05-23  0  1   2   3\n",
      "2024-05-24  4  5   6   7\n",
      "2024-05-25  8  9  10  11\n",
      "**********\n",
      "2024-05-23    1\n",
      "2024-05-24    5\n",
      "2024-05-25    9\n",
      "Freq: D, Name: b, dtype: int32\n"
     ]
    }
   ],
   "source": [
    "import numpy as np\n",
    "import pandas as pd\n",
    "\n",
    "dates = pd.date_range('20240523', periods=3)\n",
    "df = pd.DataFrame(np.arange(12).reshape(3, 4), index=dates, columns=['a', 'b', 'c', 'd'])\n",
    "print(df)\n",
    "\n",
    "print(\"**********\")\n",
    "print(df['b'])"
   ]
  },
  {
   "cell_type": "code",
   "execution_count": 19,
   "id": "e4954d83-afda-440d-b9b9-b514cc56b712",
   "metadata": {},
   "outputs": [
    {
     "name": "stdout",
     "output_type": "stream",
     "text": [
      "   0  1   2   3\n",
      "0  0  1   2   3\n",
      "1  4  5   6   7\n",
      "2  8  9  10  11\n",
      "**********\n",
      "     A                          B    C  D      E    F\n",
      "0  1.0 2024-05-27 01:24:49.331897  1.0  3   test  foo\n",
      "1  1.0 2024-05-27 01:24:49.331897  1.0  3  train  foo\n",
      "2  1.0 2024-05-27 01:24:49.331897  1.0  3   test  foo\n",
      "3  1.0 2024-05-27 01:24:49.331897  1.0  3  train  foo\n",
      "**********\n",
      "A           float64\n",
      "B    datetime64[ns]\n",
      "C           float32\n",
      "D             int32\n",
      "E          category\n",
      "F            object\n",
      "dtype: object\n",
      "**********\n",
      "Index([0, 1, 2, 3], dtype='int32')\n",
      "**********\n",
      "Index(['A', 'B', 'C', 'D', 'E', 'F'], dtype='object')\n",
      "**********\n",
      "[[1.0 Timestamp('2024-05-27 01:24:49.331897') 1.0 3 'test' 'foo']\n",
      " [1.0 Timestamp('2024-05-27 01:24:49.331897') 1.0 3 'train' 'foo']\n",
      " [1.0 Timestamp('2024-05-27 01:24:49.331897') 1.0 3 'test' 'foo']\n",
      " [1.0 Timestamp('2024-05-27 01:24:49.331897') 1.0 3 'train' 'foo']]\n",
      "**********\n",
      "          A                              B    C    D     E    F\n",
      "count   4.0                              4  4.0  4.0     4    4\n",
      "unique  NaN                            NaN  NaN  NaN     2    1\n",
      "top     NaN                            NaN  NaN  NaN  test  foo\n",
      "freq    NaN                            NaN  NaN  NaN     2    4\n",
      "mean    1.0  2024-05-27 01:24:49.331897088  1.0  3.0   NaN  NaN\n",
      "min     1.0     2024-05-27 01:24:49.331897  1.0  3.0   NaN  NaN\n",
      "25%     1.0  2024-05-27 01:24:49.331897088  1.0  3.0   NaN  NaN\n",
      "50%     1.0  2024-05-27 01:24:49.331897088  1.0  3.0   NaN  NaN\n",
      "75%     1.0  2024-05-27 01:24:49.331897088  1.0  3.0   NaN  NaN\n",
      "max     1.0     2024-05-27 01:24:49.331897  1.0  3.0   NaN  NaN\n",
      "std     0.0                            NaN  0.0  0.0   NaN  NaN\n",
      "**********\n",
      "                            0                           1  \\\n",
      "A                         1.0                         1.0   \n",
      "B  2024-05-27 01:24:49.331897  2024-05-27 01:24:49.331897   \n",
      "C                         1.0                         1.0   \n",
      "D                           3                           3   \n",
      "E                        test                       train   \n",
      "F                         foo                         foo   \n",
      "\n",
      "                            2                           3  \n",
      "A                         1.0                         1.0  \n",
      "B  2024-05-27 01:24:49.331897  2024-05-27 01:24:49.331897  \n",
      "C                         1.0                         1.0  \n",
      "D                           3                           3  \n",
      "E                        test                       train  \n",
      "F                         foo                         foo  \n",
      "**********\n",
      "     F      E  D    C                          B    A\n",
      "0  foo   test  3  1.0 2024-05-27 01:24:49.331897  1.0\n",
      "1  foo  train  3  1.0 2024-05-27 01:24:49.331897  1.0\n",
      "2  foo   test  3  1.0 2024-05-27 01:24:49.331897  1.0\n",
      "3  foo  train  3  1.0 2024-05-27 01:24:49.331897  1.0\n",
      "**********\n",
      "     A                          B    C  D      E    F\n",
      "0  1.0 2024-05-27 01:24:49.331897  1.0  3   test  foo\n",
      "2  1.0 2024-05-27 01:24:49.331897  1.0  3   test  foo\n",
      "1  1.0 2024-05-27 01:24:49.331897  1.0  3  train  foo\n",
      "3  1.0 2024-05-27 01:24:49.331897  1.0  3  train  foo\n"
     ]
    }
   ],
   "source": [
    "df1 = pd.DataFrame(np.arange(12).reshape((3,4)))\n",
    "print(df1)\n",
    "\n",
    "df2 = pd.DataFrame({'A' : 1.,\n",
    "                    'B' : pd.Timestamp.now(), #时间戳\n",
    "                    'C' : pd.Series(1, index=np.arange(4), dtype='float32'),\n",
    "                    'D' : np.array([3] * 4, dtype='int32'),\n",
    "                    'E' : pd.Categorical([\"test\", \"train\", \"test\", \"train\"]), #分类数据类型，有限且唯一性数据集\n",
    "                    'F' : 'foo'})\n",
    "print(\"**********\")                   \n",
    "print(df2)\n",
    "print(\"**********\")\n",
    "print(df2.dtypes)\n",
    "print(\"**********\")\n",
    "print(df2.index)\n",
    "print(\"**********\")\n",
    "print(df2.columns)\n",
    "print(\"**********\")\n",
    "print(df2.values)\n",
    "print(\"**********\")\n",
    "print(df2.describe(include='all')) #描述统计信息 \n",
    "print(\"**********\")\n",
    "print(df2.T)\n",
    "print(\"**********\")\n",
    "print(df2.sort_index(axis=1, ascending=False)) # ascending：是否升序排列，默认为True，表示升序\n",
    "print(\"**********\")\n",
    "print(df2.sort_values(by='E')) #按DataFrame中的值排序，升序"
   ]
  },
  {
   "cell_type": "markdown",
   "id": "297a81e6-ef2d-487f-bcfb-f3e7680c2817",
   "metadata": {},
   "source": [
    "**DataFrame简单筛选**"
   ]
  },
  {
   "cell_type": "code",
   "execution_count": 98,
   "id": "43bb1eef-cc5a-4f38-89b9-276d0ad62ad9",
   "metadata": {},
   "outputs": [
    {
     "name": "stdout",
     "output_type": "stream",
     "text": [
      "             A   B   C   D\n",
      "2024-05-23   0   1   2   3\n",
      "2024-05-24   4   5   6   7\n",
      "2024-05-25   8   9  10  11\n",
      "2024-05-26  12  13  14  15\n",
      "2024-05-27  16  17  18  19\n",
      "2024-05-28  20  21  22  23\n",
      "2024-05-23     0\n",
      "2024-05-24     4\n",
      "2024-05-25     8\n",
      "2024-05-26    12\n",
      "2024-05-27    16\n",
      "2024-05-28    20\n",
      "Freq: D, Name: A, dtype: int32\n",
      "2024-05-23     0\n",
      "2024-05-24     4\n",
      "2024-05-25     8\n",
      "2024-05-26    12\n",
      "2024-05-27    16\n",
      "2024-05-28    20\n",
      "Freq: D, Name: A, dtype: int32\n",
      "            A  B   C   D\n",
      "2024-05-23  0  1   2   3\n",
      "2024-05-24  4  5   6   7\n",
      "2024-05-25  8  9  10  11\n"
     ]
    }
   ],
   "source": [
    "import numpy as np\n",
    "import pandas as pd\n",
    "#简单筛选\n",
    "dates = pd.date_range('20240523', periods = 6)\n",
    "df = pd.DataFrame(np.arange(24).reshape((6,4)), index=dates, columns=['A', 'B', 'C', 'D'])\n",
    "\n",
    "print(df)\n",
    "print(df['A'])\n",
    "print(df.A)\n",
    "print(df[0:3])"
   ]
  },
  {
   "cell_type": "markdown",
   "id": "f567cc3c-3956-4432-b665-b2acd1bfc2be",
   "metadata": {},
   "source": [
    "**DataFrame索引**"
   ]
  },
  {
   "cell_type": "markdown",
   "id": "d6608b35-b7b2-4b65-9050-5cad13bf6c7e",
   "metadata": {},
   "source": [
    "loc：通过行、列的名称/标签来索引  \n",
    "iloc：通过行、列的索引位置来寻找数据"
   ]
  },
  {
   "cell_type": "code",
   "execution_count": 99,
   "id": "8d7fa8bb-2146-404c-8f4b-3f3d1d47631b",
   "metadata": {},
   "outputs": [
    {
     "name": "stdout",
     "output_type": "stream",
     "text": [
      "             A   B   C   D\n",
      "2024-05-23   0   1   2   3\n",
      "2024-05-24   4   5   6   7\n",
      "2024-05-25   8   9  10  11\n",
      "2024-05-26  12  13  14  15\n",
      "2024-05-27  16  17  18  19\n",
      "2024-05-28  20  21  22  23\n",
      "A     8\n",
      "B     9\n",
      "C    10\n",
      "D    11\n",
      "Name: 2024-05-25 00:00:00, dtype: int32\n",
      "A     8\n",
      "C    10\n",
      "Name: 2024-05-25 00:00:00, dtype: int32\n",
      "             A   C\n",
      "2024-05-23   0   2\n",
      "2024-05-24   4   6\n",
      "2024-05-25   8  10\n",
      "2024-05-26  12  14\n",
      "2024-05-27  16  18\n",
      "2024-05-28  20  22\n"
     ]
    }
   ],
   "source": [
    "import numpy as np\n",
    "import pandas as pd\n",
    "#根据标签loc\n",
    "dates = pd.date_range('20240523', periods = 6)\n",
    "df = pd.DataFrame(np.arange(24).reshape((6,4)),index = dates, columns = ['A', 'B', 'C', 'D'])\n",
    "\n",
    "print(df)\n",
    "print(df.loc['20240525'])\n",
    "print(df.loc['20240525', ['A', 'C']])\n",
    "print(df.loc[: , ['A', 'C']])"
   ]
  },
  {
   "cell_type": "code",
   "execution_count": 47,
   "id": "9f754f1a-245c-413b-8082-ef29f99dc084",
   "metadata": {},
   "outputs": [
    {
     "name": "stdout",
     "output_type": "stream",
     "text": [
      "             A   B   C   D\n",
      "2024-05-23   0   1   2   3\n",
      "2024-05-24   4   5   6   7\n",
      "2024-05-25   8   9  10  11\n",
      "2024-05-26  12  13  14  15\n",
      "2024-05-27  16  17  18  19\n",
      "2024-05-28  20  21  22  23\n",
      "13\n",
      "            B   C\n",
      "2024-05-24  5   6\n",
      "2024-05-25  9  10\n",
      "             B   C\n",
      "2024-05-24   5   6\n",
      "2024-05-25   9  10\n",
      "2024-05-27  17  18\n"
     ]
    }
   ],
   "source": [
    "import numpy as np\n",
    "import pandas as pd\n",
    "#根据序列 iloc\n",
    "dates = pd.date_range('20240523', periods = 6)\n",
    "df = pd.DataFrame(np.arange(24).reshape((6,4)), index = dates, columns = ['A', 'B', 'C', 'D'])\n",
    "\n",
    "print(df)\n",
    "print(df.iloc[3, 1])\n",
    "print(df.iloc[1:3, 1:3])\n",
    "print(df.iloc[[1, 2, 4], 1:3])"
   ]
  },
  {
   "cell_type": "markdown",
   "id": "284f0f3d-71db-431c-a226-dd4d43b0b78c",
   "metadata": {},
   "source": [
    "使用`ix`报错 **AttributeError: 'DataFrame' object has no attribute 'ix'**  \n",
    "pandas的1.0.0版本后，已经对该函数进行了升级和重构"
   ]
  },
  {
   "cell_type": "code",
   "execution_count": 28,
   "id": "63486894-cb33-498c-9007-eb2e9960b15b",
   "metadata": {},
   "outputs": [
    {
     "name": "stdout",
     "output_type": "stream",
     "text": [
      "2.0.3\n"
     ]
    }
   ],
   "source": [
    "import pandas as pd\n",
    "print(pd.__version__)"
   ]
  },
  {
   "cell_type": "code",
   "execution_count": 2,
   "id": "0ae676ac-2672-4ffe-861d-c8d0e7da4fec",
   "metadata": {},
   "outputs": [],
   "source": [
    "# import numpy as np\n",
    "# import pandas as pd\n",
    "# #根据混合的这两种 ix\n",
    "# dates = pd.date_range('20240523', periods = 6)\n",
    "# df = pd.DataFrame(np.arange(24).reshape((6,4)),index = dates, columns = ['A', 'B', 'C', 'D'])\n",
    "\n",
    "# print(df)\n",
    "# print(df.ix[0:2, ['A', 'C']])"
   ]
  },
  {
   "cell_type": "code",
   "execution_count": 40,
   "id": "c51c96ff-42ce-41ac-86c1-2036059dd4fa",
   "metadata": {},
   "outputs": [
    {
     "name": "stdout",
     "output_type": "stream",
     "text": [
      "             A   B   C   D\n",
      "2024-05-23   0   1   2   3\n",
      "2024-05-24   4   5   6   7\n",
      "2024-05-25   8   9  10  11\n",
      "2024-05-26  12  13  14  15\n",
      "2024-05-27  16  17  18  19\n",
      "2024-05-28  20  21  22  23\n",
      "             A   B   C   D\n",
      "2024-05-26  12  13  14  15\n",
      "2024-05-27  16  17  18  19\n",
      "2024-05-28  20  21  22  23\n"
     ]
    }
   ],
   "source": [
    "import numpy as np\n",
    "import pandas as pd\n",
    "#通过判断的筛选 \n",
    "dates = pd.date_range('20240523', periods = 6)\n",
    "df = pd.DataFrame(np.arange(24).reshape((6,4)),index = dates, columns = ['A', 'B', 'C', 'D'])\n",
    "\n",
    "print(df)\n",
    "print(df[df.A>8])"
   ]
  },
  {
   "cell_type": "markdown",
   "id": "6c651bd4-60e0-4978-99ad-a42f31c52b0a",
   "metadata": {},
   "source": [
    "#### 2.3 Pandas 设置值\n",
    "* 根据位置设置 loc 和 iloc\n",
    "* 根据条件设置\n",
    "* 按行或列设置\n",
    "* 添加数据"
   ]
  },
  {
   "cell_type": "code",
   "execution_count": 35,
   "id": "9a2fc3dd-4d6e-425f-bfa0-2d86fe24d8c8",
   "metadata": {},
   "outputs": [
    {
     "name": "stdout",
     "output_type": "stream",
     "text": [
      "             A   B   C   D\n",
      "2024-05-23   0   1   2   3\n",
      "2024-05-24   4   5   6   7\n",
      "2024-05-25   8   9  10  11\n",
      "2024-05-26  12  13  14  15\n",
      "2024-05-27  16  17  18  19\n",
      "2024-05-28  20  21  22  23\n",
      "             A     B     C   D\n",
      "2024-05-23   0  2222     2   3\n",
      "2024-05-24   4     5     6   7\n",
      "2024-05-25   8     9  1111  11\n",
      "2024-05-26  12    13    14  15\n",
      "2024-05-27  16    17    18  19\n",
      "2024-05-28  20    21    22  23\n"
     ]
    }
   ],
   "source": [
    "import numpy as np\n",
    "import pandas as pd\n",
    "#根据位置设置 loc 和 iloc\n",
    "dates = pd.date_range('20240523', periods = 6)\n",
    "df = pd.DataFrame(np.arange(24).reshape((6,4)),index = dates, columns = ['A', 'B', 'C', 'D'])\n",
    "\n",
    "print(df)\n",
    "df.iloc[2, 2] = 1111\n",
    "df.loc['20240523', 'B'] = 2222\n",
    "print(df)"
   ]
  },
  {
   "cell_type": "code",
   "execution_count": 3,
   "id": "70aa62be-80e0-48f1-bf28-13059528caeb",
   "metadata": {},
   "outputs": [
    {
     "name": "stdout",
     "output_type": "stream",
     "text": [
      "             A   B   C   D\n",
      "2024-05-23   0   1   2   3\n",
      "2024-05-24   4   5   6   7\n",
      "2024-05-25   8   9  10  11\n",
      "2024-05-26  12  13  14  15\n",
      "2024-05-27  16  17  18  19\n",
      "2024-05-28  20  21  22  23\n",
      "             A  B   C   D\n",
      "2024-05-23   0  1   2   3\n",
      "2024-05-24   4  5   6   7\n",
      "2024-05-25   8  0  10  11\n",
      "2024-05-26  12  0  14  15\n",
      "2024-05-27  16  0  18  19\n",
      "2024-05-28  20  0  22  23\n"
     ]
    }
   ],
   "source": [
    "import numpy as np\n",
    "import pandas as pd\n",
    "#根据条件设置 \n",
    "dates = pd.date_range('20240523', periods = 6)\n",
    "df = pd.DataFrame(np.arange(24).reshape((6,4)),index = dates, columns = ['A', 'B', 'C', 'D'])\n",
    "\n",
    "print(df)\n",
    "df.B[df.A > 4] = 0\n",
    "print(df)"
   ]
  },
  {
   "cell_type": "code",
   "execution_count": 38,
   "id": "3d1e8c3c-cff2-4477-a1e5-c344d22da5cc",
   "metadata": {},
   "outputs": [
    {
     "name": "stdout",
     "output_type": "stream",
     "text": [
      "             A   B   C   D\n",
      "2024-05-23   0   1   2   3\n",
      "2024-05-24   4   5   6   7\n",
      "2024-05-25   8   9  10  11\n",
      "2024-05-26  12  13  14  15\n",
      "2024-05-27  16  17  18  19\n",
      "2024-05-28  20  21  22  23\n",
      "             A   B   C   D   F\n",
      "2024-05-23   0   1   2   3 NaN\n",
      "2024-05-24   4   5   6   7 NaN\n",
      "2024-05-25   8   9  10  11 NaN\n",
      "2024-05-26  12  13  14  15 NaN\n",
      "2024-05-27  16  17  18  19 NaN\n",
      "2024-05-28  20  21  22  23 NaN\n"
     ]
    }
   ],
   "source": [
    "import numpy as np\n",
    "import pandas as pd\n",
    "#按行或列设置 \n",
    "dates = pd.date_range('20240523', periods = 6)\n",
    "df = pd.DataFrame(np.arange(24).reshape((6,4)),index = dates, columns = ['A', 'B', 'C', 'D'])\n",
    "\n",
    "print(df)\n",
    "df['F'] = np.nan\n",
    "print(df)"
   ]
  },
  {
   "cell_type": "code",
   "execution_count": 7,
   "id": "4bbf3bab-751b-4738-963d-6c98ae7ccd1c",
   "metadata": {},
   "outputs": [
    {
     "name": "stdout",
     "output_type": "stream",
     "text": [
      "             A   B   C   D\n",
      "2024-05-23   0   1   2   3\n",
      "2024-05-24   4   5   6   7\n",
      "2024-05-25   8   9  10  11\n",
      "2024-05-26  12  13  14  15\n",
      "2024-05-27  16  17  18  19\n",
      "2024-05-28  20  21  22  23\n",
      "             A   B   C   D  E\n",
      "2024-05-23   0   1   2   3  1\n",
      "2024-05-24   4   5   6   7  2\n",
      "2024-05-25   8   9  10  11  3\n",
      "2024-05-26  12  13  14  15  4\n",
      "2024-05-27  16  17  18  19  5\n",
      "2024-05-28  20  21  22  23  6\n"
     ]
    }
   ],
   "source": [
    "import numpy as np\n",
    "import pandas as pd\n",
    "#添加数据 \n",
    "dates = pd.date_range('20240523', periods = 6)\n",
    "df = pd.DataFrame(np.arange(24).reshape((6,4)),index = dates, columns = ['A', 'B', 'C', 'D'])\n",
    "\n",
    "print(df)\n",
    "df['E'] = pd.Series([1, 2, 3, 4, 5, 6], index = pd.date_range('20240523', periods = 6)) \n",
    "print(df)"
   ]
  },
  {
   "cell_type": "markdown",
   "id": "88ca88d8-20bf-445e-9c2d-61dcc90a7d0a",
   "metadata": {},
   "source": [
    "#### 2.4 Pandas处理丢失数据\n",
    "* pd.dropna()：找到DataFrame类型数据的空值（缺失值），将空值所在的行/列删除后，将新的DataFrame作为返回值返回。\n",
    "* pd.fillna()：将数据帧（DataFrame）中的缺失值（NaN值）用指定的值或方法进行填充\n",
    "* pd.isnull()：检查 DataFrame 中的数据是否为空（NaN）值，返回一个布尔型（True或False）\n"
   ]
  },
  {
   "cell_type": "markdown",
   "id": "b2a703e4-93be-4332-8f41-db755fd471be",
   "metadata": {},
   "source": [
    "DataFrame.dropna(axis=0, how='any', thresh=None, subset=None, inplace=False)\n",
    "* axis：轴。0或'index'，表示按行删除；1或'columns'，表示按列删除。\n",
    "* how：筛选方式。‘any’，表示该行/列只要有一个以上的空值，就删除该行/列；‘all’，表示该行/列全部都为空值，就删除该行/列。\n",
    "* thresh：非空元素最低数量。int型，默认为None。如果该行/列中，非空元素数量小于这个值，就删除该行/列。\n",
    "* subset：子集。列表，元素为行或者列的索引。如果axis=0或者‘index’，subset中元素为列的索引；如果axis=1或者‘column’，subset中元素为行的索引。由subset限制的子区域，是判断是否删除该行/列的条件判断区域。\n",
    "* inplace：是否原地替换。布尔值，默认为False。如果为True，则在原DataFrame上进行操作，返回值为None。"
   ]
  },
  {
   "cell_type": "markdown",
   "id": "8288350d-ba5d-41e2-bfdd-8cc6529dda60",
   "metadata": {},
   "source": [
    "DataFrame.fillna(value=None, method=None, axis=None, inplace=False, limit=None, downcast=None)\n",
    "* value：要用来填充缺失值的值或字典（第二个实例会详细介绍）。\n",
    "* method：用来填充缺失值的方法，可以是 ffill（向前填充）或 bfill（向后填充），默认为 None。\n",
    "* axis：对缺失值填充的轴，可以是 0（默认，按列填充）或 1（按行填充）。\n",
    "* inplace：是否在原数据帧中进行填充，默认为 False。\n",
    "* limit：限制向前或向后填充的最大数量。\n",
    "* downcast：用于将填充结果数据类型降低为更小的类型，以减少内存占用。"
   ]
  },
  {
   "cell_type": "code",
   "execution_count": 21,
   "id": "061af889-508b-4a2e-8c6c-00eeec4796e4",
   "metadata": {},
   "outputs": [
    {
     "name": "stdout",
     "output_type": "stream",
     "text": [
      "             A     B     C     D\n",
      "2024-05-23   0   NaN   NaN   NaN\n",
      "2024-05-24   4   5.0   NaN   7.0\n",
      "2024-05-25   8   9.0  10.0  11.0\n",
      "2024-05-26  12  13.0  14.0  15.0\n",
      "2024-05-27  16  17.0  18.0  19.0\n",
      "2024-05-28  20  21.0  22.0  23.0\n",
      "             A     B     C     D\n",
      "2024-05-25   8   9.0  10.0  11.0\n",
      "2024-05-26  12  13.0  14.0  15.0\n",
      "2024-05-27  16  17.0  18.0  19.0\n",
      "2024-05-28  20  21.0  22.0  23.0\n",
      "             A     B     C     D\n",
      "2024-05-23   0     a     a     a\n",
      "2024-05-24   4   5.0     a   7.0\n",
      "2024-05-25   8   9.0  10.0  11.0\n",
      "2024-05-26  12  13.0  14.0  15.0\n",
      "2024-05-27  16  17.0  18.0  19.0\n",
      "2024-05-28  20  21.0  22.0  23.0\n",
      "                A      B      C      D\n",
      "2024-05-23  False   True   True   True\n",
      "2024-05-24  False  False   True  False\n",
      "2024-05-25  False  False  False  False\n",
      "2024-05-26  False  False  False  False\n",
      "2024-05-27  False  False  False  False\n",
      "2024-05-28  False  False  False  False\n"
     ]
    },
    {
     "data": {
      "text/plain": [
       "True"
      ]
     },
     "execution_count": 21,
     "metadata": {},
     "output_type": "execute_result"
    }
   ],
   "source": [
    "import numpy as np\n",
    "import pandas as pd\n",
    "\n",
    "dates = pd.date_range('20240523', periods = 6)\n",
    "df = pd.DataFrame(np.arange(24).reshape((6,4)),index = dates, columns = ['A', 'B', 'C', 'D'])\n",
    "df.iloc[0, 1:4] = np.nan\n",
    "df.iloc[1, 2] = np.nan\n",
    "\n",
    "print(df)\n",
    "#删除NaN\n",
    "df1 = df.dropna(axis = 0,     # 0: 对行进行操作; 1: 对列进行操作\n",
    "                how = 'any')  # 'any': 只要存在 NaN 就 drop 掉; 'all': 必须全部是 NaN 才 drop       \n",
    "print(df1)\n",
    "\n",
    "#替换NaN\n",
    "print(df.fillna(value='a'))\n",
    "\n",
    "#判断NaN\n",
    "print(df.isnull()) \n",
    "np.any(df.isnull()) == True  "
   ]
  },
  {
   "cell_type": "markdown",
   "id": "1cc32ea8-e339-48cd-9b0c-01b90638bed9",
   "metadata": {},
   "source": [
    "#### 2.5 Pandas导入导出\n",
    "pandas可以读取/存取如`csv`、`excel`、`json`、`html`与`pickle`等格式文件"
   ]
  },
  {
   "cell_type": "code",
   "execution_count": 45,
   "id": "033955c8-0cb0-4118-bfbb-d82fbcfff36c",
   "metadata": {},
   "outputs": [
    {
     "name": "stdout",
     "output_type": "stream",
     "text": [
      "    Student ID  name   age  gender\n",
      "0         1100  Kelly   22  Female\n",
      "1         1101    Clo   21  Female\n",
      "2         1102  Tilly   22  Female\n",
      "3         1103   Tony   24    Male\n",
      "4         1104  David   20    Male\n",
      "5         1105  Catty   22  Female\n",
      "6         1106      M    3  Female\n",
      "7         1107      N   43    Male\n",
      "8         1108      A   13    Male\n",
      "9         1109      S   12    Male\n",
      "10        1110  David   33    Male\n",
      "11        1111     Dw    3  Female\n",
      "12        1112      Q   23    Male\n",
      "13        1113      W   21  Female\n"
     ]
    }
   ],
   "source": [
    "import pandas as pd\n",
    "\n",
    "data = pd.read_csv('D:/JupyterNotebookCode/txt/student.csv')\n",
    "print(data)\n",
    "data.to_pickle('D:/JupyterNotebookCode/txt/student.pickle')"
   ]
  },
  {
   "attachments": {
    "9c69f8d5-6fc9-43ff-a79d-2c2bfd4aa768.png": {
     "image/png": "[encoded data removed]"
    }
   },
   "cell_type": "markdown",
   "id": "0d2c295d-b6d5-402d-a711-4f959e58b235",
   "metadata": {},
   "source": [
    "![image.png](attachment:9c69f8d5-6fc9-43ff-a79d-2c2bfd4aa768.png)"
   ]
  },
  {
   "cell_type": "markdown",
   "id": "9eca2c9d-899d-40ae-9964-ebbbb6848931",
   "metadata": {},
   "source": [
    "#### 2.6 Pandas合并concat"
   ]
  },
  {
   "cell_type": "markdown",
   "id": "9c71a563-7a1b-4c15-beb9-f4c541cb0824",
   "metadata": {},
   "source": [
    "pd.concat(objs, axis=0, join='outer', ignore_index=False, keys=None, levels=None, names=None, verify_integrity=False, sort=False, copy=True)\n",
    "* objs :用于拼接的Pandas对象序列，例如数据帧和Series\n",
    "* axis : 指定拼接数据的方向。0表示按行拼接，1表示按列拼接，默认为0。\n",
    "* join : 指定合并时采用的连接方式。'inner'表示内部连接，'outer'表示外部连接，默认为'outer'。\n",
    "* ignore_index :指定拼接后是否重置索引，默认为False，表示保留原索引。\n",
    "* keys : 构建分层索引，可以是任意多个分层级别的key。\n",
    "* levels : 指定每个key的级别，默认为None，表示按照keys的顺序进行自动编号。\n",
    "* names :自定义分层级别名称，默认为None。\n",
    "* verify_integrity : 检查合并后的数据是否有重复项，默认为False。\n",
    "* sort : 指定是否按照顺序进行排序，默认为False。\n",
    "* copy :指定是否在拼接之前复制数据，默认为True。"
   ]
  },
  {
   "cell_type": "code",
   "execution_count": 2,
   "id": "3f8120d3-f083-4b1a-9929-9b8712df72b8",
   "metadata": {},
   "outputs": [
    {
     "name": "stdout",
     "output_type": "stream",
     "text": [
      "     a    b    c    d\n",
      "0  0.0  0.0  0.0  0.0\n",
      "1  0.0  0.0  0.0  0.0\n",
      "2  0.0  0.0  0.0  0.0\n",
      "0  1.0  1.0  1.0  1.0\n",
      "1  1.0  1.0  1.0  1.0\n",
      "2  1.0  1.0  1.0  1.0\n",
      "0  2.0  2.0  2.0  2.0\n",
      "1  2.0  2.0  2.0  2.0\n",
      "2  2.0  2.0  2.0  2.0\n",
      "     a    b    c    d\n",
      "0  0.0  0.0  0.0  0.0\n",
      "1  0.0  0.0  0.0  0.0\n",
      "2  0.0  0.0  0.0  0.0\n",
      "3  1.0  1.0  1.0  1.0\n",
      "4  1.0  1.0  1.0  1.0\n",
      "5  1.0  1.0  1.0  1.0\n",
      "6  2.0  2.0  2.0  2.0\n",
      "7  2.0  2.0  2.0  2.0\n",
      "8  2.0  2.0  2.0  2.0\n"
     ]
    }
   ],
   "source": [
    "import pandas as pd\n",
    "import numpy as np\n",
    "\n",
    "df1 = pd.DataFrame(np.ones((3, 4)) * 0, columns = ['a', 'b', 'c', 'd'])\n",
    "df2 = pd.DataFrame(np.ones((3, 4)) * 1, columns = ['a', 'b', 'c', 'd'])\n",
    "df3 = pd.DataFrame(np.ones((3, 4)) * 2, columns = ['a', 'b', 'c', 'd'])\n",
    "\n",
    "#concat纵向合并\n",
    "res = pd.concat([df1, df2, df3], axis=0)\n",
    "print(res)\n",
    "\n",
    "#重置index\n",
    "res = pd.concat([df1, df2, df3], axis=0, ignore_index=True)\n",
    "print(res)"
   ]
  },
  {
   "cell_type": "code",
   "execution_count": 10,
   "id": "b63cc18f-9c66-4cab-a1c6-f4c242c53f7b",
   "metadata": {},
   "outputs": [
    {
     "name": "stdout",
     "output_type": "stream",
     "text": [
      "     a    b    d\n",
      "1  0.0  0.0  0.0\n",
      "2  0.0  0.0  0.0\n",
      "3  0.0  0.0  0.0\n",
      "     a    b    c    d\n",
      "0  1.0  1.0  1.0  1.0\n",
      "1  1.0  1.0  1.0  1.0\n",
      "2  1.0  1.0  1.0  1.0\n",
      "     a    b    d    c\n",
      "1  0.0  0.0  0.0  NaN\n",
      "2  0.0  0.0  0.0  NaN\n",
      "3  0.0  0.0  0.0  NaN\n",
      "0  1.0  1.0  1.0  1.0\n",
      "1  1.0  1.0  1.0  1.0\n",
      "2  1.0  1.0  1.0  1.0\n",
      "     a    b    d\n",
      "1  0.0  0.0  0.0\n",
      "2  0.0  0.0  0.0\n",
      "3  0.0  0.0  0.0\n",
      "0  1.0  1.0  1.0\n",
      "1  1.0  1.0  1.0\n",
      "2  1.0  1.0  1.0\n",
      "     a    b    d\n",
      "0  0.0  0.0  0.0\n",
      "1  0.0  0.0  0.0\n",
      "2  0.0  0.0  0.0\n",
      "3  1.0  1.0  1.0\n",
      "4  1.0  1.0  1.0\n",
      "5  1.0  1.0  1.0\n"
     ]
    }
   ],
   "source": [
    "import pandas as pd\n",
    "import numpy as np\n",
    "\n",
    "df1 = pd.DataFrame(np.ones((3, 3)) * 0, index = np.arange(1, 4), columns = ['a', 'b', 'd'])\n",
    "df2 = pd.DataFrame(np.ones((3, 4)) * 1, columns = ['a', 'b', 'c', 'd'])\n",
    "\n",
    "#纵向\"外\"合并df1与df2（并集，没有的元素用NaN填充）\n",
    "res = pd.concat([df1, df2], axis=0, join='outer')\n",
    "print(df1)\n",
    "print(df2)\n",
    "print(res)\n",
    "\n",
    "#纵向\"内\"合并df1与df2(交集)\n",
    "res = pd.concat([df1, df2], axis=0, join='inner')\n",
    "print(res)\n",
    "\n",
    "#重置index\n",
    "res = pd.concat([df1, df2], axis=0, join='inner', ignore_index=True)\n",
    "print(res)"
   ]
  },
  {
   "cell_type": "code",
   "execution_count": 12,
   "id": "5ecdfe52-4d0a-4c4f-8e6a-0733f54bfca3",
   "metadata": {},
   "outputs": [
    {
     "name": "stdout",
     "output_type": "stream",
     "text": [
      "     a    b    c    d    a    b    c    d\n",
      "0  0.0  0.0  0.0  0.0  1.0  1.0  1.0  1.0\n",
      "1  0.0  0.0  0.0  0.0  1.0  1.0  1.0  1.0\n",
      "2  0.0  0.0  0.0  0.0  1.0  1.0  1.0  1.0\n"
     ]
    }
   ],
   "source": [
    "import pandas as pd\n",
    "import numpy as np\n",
    "\n",
    "df1 = pd.DataFrame(np.ones((3, 4)) * 0, columns = ['a', 'b', 'c', 'd'])\n",
    "df2 = pd.DataFrame(np.ones((3, 4)) * 1, columns = ['a', 'b', 'c', 'd'])\n",
    "\n",
    "res = pd.concat([df1, df2], xisa=1)\n",
    "print(res)"
   ]
  },
  {
   "cell_type": "code",
   "execution_count": 4,
   "id": "4dda9612-7cc7-4635-b204-a77edc9678df",
   "metadata": {},
   "outputs": [
    {
     "name": "stdout",
     "output_type": "stream",
     "text": [
      "     a    b    c    d\n",
      "0  0.0  0.0  0.0  0.0\n",
      "1  0.0  0.0  0.0  0.0\n",
      "2  0.0  0.0  0.0  0.0\n",
      "3  1.0  1.0  1.0  1.0\n",
      "4  1.0  1.0  1.0  1.0\n",
      "5  1.0  1.0  1.0  1.0\n",
      "     a    b    c    d\n",
      "0  0.0  0.0  0.0  0.0\n",
      "1  0.0  0.0  0.0  0.0\n",
      "2  0.0  0.0  0.0  0.0\n",
      "3  1.0  1.0  1.0  1.0\n",
      "4  1.0  1.0  1.0  1.0\n",
      "5  1.0  1.0  1.0  1.0\n",
      "6  2.0  2.0  2.0  2.0\n",
      "7  2.0  2.0  2.0  2.0\n",
      "8  2.0  2.0  2.0  2.0\n",
      "     a    b    c    d    0\n",
      "0  0.0  0.0  0.0  0.0  NaN\n",
      "1  0.0  0.0  0.0  0.0  NaN\n",
      "2  0.0  0.0  0.0  0.0  NaN\n",
      "3  NaN  NaN  NaN  NaN  1.0\n",
      "4  NaN  NaN  NaN  NaN  2.0\n",
      "5  NaN  NaN  NaN  NaN  3.0\n",
      "6  NaN  NaN  NaN  NaN  4.0\n"
     ]
    }
   ],
   "source": [
    "import pandas as pd\n",
    "import numpy as np\n",
    "\n",
    "df1 = pd.DataFrame(np.ones((3, 4)) * 0, columns = ['a', 'b', 'c', 'd'])\n",
    "df2 = pd.DataFrame(np.ones((3, 4)) * 1, columns = ['a', 'b', 'c', 'd'])\n",
    "df3 = pd.DataFrame(np.ones((3, 4)) * 2, columns = ['a', 'b', 'c', 'd'])\n",
    "s1 = pd.Series([1, 2, 3, 4], index=['a', 'b', 'c', 'd'])\n",
    "\n",
    "#为了防止和list.append混淆，pandas更新中删去了DataFrame的append \n",
    "# _append是一个私有的内部方法，声明“pandas中的append方法看起来类似于list”,不能在pandas之外使用\n",
    "\n",
    "# res = df1.append(df2, ignore_index=True)\n",
    "res = df1._append(df2, ignore_index=True)\n",
    "print(res)\n",
    "\n",
    "# res = df1.append([df2, df3], ignore_index=True)\n",
    "res = df1._append([df2, df3], ignore_index=True)\n",
    "print(res)\n",
    "\n",
    "# append()方法在pandas版本1.4.0中已经被标记为弃用，并将在未来的版本中被移除，官方推荐使用 concat() 作为替代方法来进行数据的合并操作\n",
    "res = pd.concat([df1, s1], ignore_index=True)\n",
    "print(res)"
   ]
  },
  {
   "cell_type": "markdown",
   "id": "da1a5513-d8c8-46fe-b28a-ab53146e5d44",
   "metadata": {},
   "source": [
    "#### 2.7 Pandas合并merge\n",
    "* 依据一组`key`合并\n",
    "* 依据两组`key`合并\n",
    "* `Indicator`\n",
    "* 依据`index`合并\n",
    "* 解决`overlapping`的问题"
   ]
  },
  {
   "cell_type": "markdown",
   "id": "25b8dce8-6108-464a-8a7a-67e191180a09",
   "metadata": {},
   "source": [
    "pd.merge(left, right, how='inner', on=None, left_on=None, right_on=None,\n",
    "         left_index=False, right_index=False, sort=True,\n",
    "         suffixes=('_x', '_y'), copy=True, indicator=False,\n",
    "         validate=None)\n",
    "* left: 拼接的左侧DataFrame对象\n",
    "* right: 拼接的右侧DataFrame对象\n",
    "* on: 要加入的列或索引级别名称。 必须在左侧和右侧DataFrame对象中找到。 如果未传递且left_index和right_index为False，则DataFrame中的列的交集将被推断为连接键。\n",
    "* left_on:左侧DataFrame中的列或索引级别用作键。 可以是列名，索引级名称，也可以是长度等于DataFrame长度的数组。\n",
    "* right_on: 左侧DataFrame中的列或索引级别用作键。 可以是列名，索引级名称，也可以是长度等于DataFrame长度的数组。\n",
    "* left_index: 如果为True，则使用左侧DataFrame中的索引（行标签）作为其连接键。 对于具有MultiIndex（分层）的DataFrame，级别数必须与右侧DataFrame中的连接键数相匹配。\n",
    "* right_index: 与left_index功能相似。\n",
    "* how: One of ‘left’, ‘right’, ‘outer’, ‘inner’. 默认inner。inner是取交集，outer取并集。比如left：[‘A’,‘B’,‘C’];right[’'A,‘C’,‘D’]；inner取交集的话，left中出现的A会和right中出现的买一个A进行匹配拼接，如果没有是B，在right中没有匹配到，则会丢失。'outer’取并集，出现的A会进行一一匹配，没有同时出现的会将缺失的部分添加缺失值。\n",
    "* sort: 按字典顺序通过连接键对结果DataFrame进行排序。 默认为True，设置为False将在很多情况下显着提高性能。\n",
    "* suffixes: 用于重叠列的字符串后缀元组。 默认为（‘x’，’ y’）。\n",
    "* copy: 始终从传递的DataFrame对象复制数据（默认为True），即使不需要重建索引也是如此。\n",
    "* indicator:将一列添加到名为_merge的输出DataFrame，其中包含有关每行源的信息。 _merge是分类类型，并且对于其合并键仅出现在“左”DataFrame中的观察值，取得值为left_only，对于其合并键仅出现在“右”DataFrame中的观察值为right_only，并且如果在两者中都找到观察点的合并键，则为left_only。"
   ]
  },
  {
   "cell_type": "code",
   "execution_count": 28,
   "id": "131a77a7-0145-4608-b30a-efe98082bdbd",
   "metadata": {},
   "outputs": [
    {
     "name": "stdout",
     "output_type": "stream",
     "text": [
      "  key   A   B\n",
      "0  K0  A0  B0\n",
      "1  K1  A1  B1\n",
      "2  K2  A2  B2\n",
      "3  K3  A3  B3\n",
      "  key   C   D\n",
      "0  K0  C0  D0\n",
      "1  K1  C1  D1\n",
      "2  K2  C2  D2\n",
      "3  K4  C3  D3\n",
      "  key   A   B   C   D\n",
      "0  K0  A0  B0  C0  D0\n",
      "1  K1  A1  B1  C1  D1\n",
      "2  K2  A2  B2  C2  D2\n"
     ]
    }
   ],
   "source": [
    "import pandas as pd\n",
    "\n",
    "left = pd.DataFrame({'key': ['K0', 'K1', 'K2', 'K3'],\n",
    "                     'A': ['A0', 'A1', 'A2', 'A3'],\n",
    "                     'B': ['B0', 'B1', 'B2', 'B3']})\n",
    "right = pd.DataFrame({'key': ['K0', 'K1', 'K2', 'K4'],\n",
    "                      'C': ['C0', 'C1', 'C2', 'C3'],\n",
    "                      'D': ['D0', 'D1', 'D2', 'D3']})\n",
    "\n",
    "print(left)\n",
    "print(right)\n",
    "\n",
    "res = pd.merge(left, right, on='key')\n",
    "print(res)"
   ]
  },
  {
   "cell_type": "code",
   "execution_count": 113,
   "id": "a7d58b6c-798d-4f9a-b7ab-a901160934a9",
   "metadata": {},
   "outputs": [
    {
     "name": "stdout",
     "output_type": "stream",
     "text": [
      "  key1 key2   A   B\n",
      "0   K0   K0  A0  B0\n",
      "1   K0   K1  A1  B1\n",
      "2   K1   K0  A2  B2\n",
      "3   K2   K1  A3  B3\n",
      "  key1 key2   C   D\n",
      "0   K0   K0  C0  D0\n",
      "1   K1   K0  C1  D1\n",
      "2   K1   K0  C2  D2\n",
      "3   K2   K0  C3  D3\n",
      "  key1 key2   A   B   C   D\n",
      "0   K0   K0  A0  B0  C0  D0\n",
      "1   K1   K0  A2  B2  C1  D1\n",
      "2   K1   K0  A2  B2  C2  D2\n",
      "  key1 key2    A    B    C    D\n",
      "0   K0   K0   A0   B0   C0   D0\n",
      "1   K0   K1   A1   B1  NaN  NaN\n",
      "2   K1   K0   A2   B2   C1   D1\n",
      "3   K1   K0   A2   B2   C2   D2\n",
      "4   K2   K1   A3   B3  NaN  NaN\n",
      "5   K2   K0  NaN  NaN   C3   D3\n",
      "  key1 key2   A   B    C    D\n",
      "0   K0   K0  A0  B0   C0   D0\n",
      "1   K0   K1  A1  B1  NaN  NaN\n",
      "2   K1   K0  A2  B2   C1   D1\n",
      "3   K1   K0  A2  B2   C2   D2\n",
      "4   K2   K1  A3  B3  NaN  NaN\n",
      "  key1 key2    A    B   C   D\n",
      "0   K0   K0   A0   B0  C0  D0\n",
      "1   K1   K0   A2   B2  C1  D1\n",
      "2   K1   K0   A2   B2  C2  D2\n",
      "3   K2   K0  NaN  NaN  C3  D3\n"
     ]
    }
   ],
   "source": [
    "import pandas as pd\n",
    "\n",
    "left = pd.DataFrame({'key1': ['K0', 'K0', 'K1', 'K2'],\n",
    "                     'key2': ['K0', 'K1', 'K0', 'K1'],\n",
    "                     'A': ['A0', 'A1', 'A2', 'A3'],\n",
    "                     'B': ['B0', 'B1', 'B2', 'B3']})\n",
    "right = pd.DataFrame({'key1': ['K0', 'K1', 'K1', 'K2'],\n",
    "                      'key2': ['K0', 'K0', 'K0', 'K0'],\n",
    "                      'C': ['C0', 'C1', 'C2', 'C3'],\n",
    "                      'D': ['D0', 'D1', 'D2', 'D3']})\n",
    "\n",
    "print(left)\n",
    "print(right)\n",
    "\n",
    "#依据key1与key2 columns进行合并，并打印出四种结果['left', 'right', 'outer', 'inner']\n",
    "res = pd.merge(left, right, on=['key1', 'key2'], how='inner')\n",
    "print(res)\n",
    "\n",
    "res = pd.merge(left, right, on=['key1', 'key2'], how='outer')\n",
    "print(res)\n",
    "\n",
    "res = pd.merge(left, right, on=['key1', 'key2'], how='left')\n",
    "print(res)\n",
    "\n",
    "res = pd.merge(left, right, on=['key1', 'key2'], how='right')\n",
    "print(res)"
   ]
  },
  {
   "cell_type": "code",
   "execution_count": 24,
   "id": "f29877e8-b83a-4bda-a9ea-3fe44a71f70b",
   "metadata": {},
   "outputs": [
    {
     "name": "stdout",
     "output_type": "stream",
     "text": [
      "   col1 col_left\n",
      "0     0        a\n",
      "1     1        b\n",
      "   col1  col_right\n",
      "0     1          2\n",
      "1     2          2\n",
      "2     2          2\n",
      "   col1 col_left  col_right      _merge\n",
      "0     0        a        NaN   left_only\n",
      "1     1        b        2.0        both\n",
      "2     2      NaN        2.0  right_only\n",
      "3     2      NaN        2.0  right_only\n",
      "   col1 col_left  col_right indicator_column\n",
      "0     0        a        NaN        left_only\n",
      "1     1        b        2.0             both\n",
      "2     2      NaN        2.0       right_only\n",
      "3     2      NaN        2.0       right_only\n"
     ]
    }
   ],
   "source": [
    "import pandas as pd\n",
    "\n",
    "df1 = pd.DataFrame({'col1':[0,1], 'col_left':['a','b']})\n",
    "df2 = pd.DataFrame({'col1':[1,2,2],'col_right':[2,2,2]})\n",
    "\n",
    "print(df1)\n",
    "print(df2)\n",
    "\n",
    "# 依据col1进行合并，并启用indicator=True，最后打印出\n",
    "res = pd.merge(df1, df2, on='col1', how='outer', indicator=True)\n",
    "print(res)\n",
    "\n",
    "# 自定indicator column的名称，并打印出\n",
    "res = pd.merge(df1, df2, on='col1', how='outer', indicator='indicator_column')\n",
    "print(res)"
   ]
  },
  {
   "cell_type": "code",
   "execution_count": 3,
   "id": "21b86fd2-e37e-4adf-9c16-ec75695531c2",
   "metadata": {},
   "outputs": [
    {
     "name": "stdout",
     "output_type": "stream",
     "text": [
      "    k  age_boy  age_girl\n",
      "0  K0        1         4\n",
      "1  K0        1         5\n"
     ]
    }
   ],
   "source": [
    "import pandas as pd\n",
    "\n",
    "boys = pd.DataFrame({'k': ['K0', 'K1', 'K2'], 'age': [1, 2, 3]})\n",
    "girls = pd.DataFrame({'k': ['K0', 'K0', 'K3'], 'age': [4, 5, 6]})\n",
    "\n",
    "res = pd.merge(boys, girls, on='k', suffixes=['_boy', '_girl'], how='inner')\n",
    "print(res)"
   ]
  },
  {
   "cell_type": "code",
   "execution_count": 4,
   "id": "d9c2d879-ce8b-4985-9a30-3fc4dcdde022",
   "metadata": {},
   "outputs": [
    {
     "name": "stdout",
     "output_type": "stream",
     "text": [
      "     A   B\n",
      "K0  A0  B0\n",
      "K1  A1  B1\n",
      "K2  A2  B2\n",
      "     C   D\n",
      "K0  C0  D0\n",
      "K2  C2  D2\n",
      "K3  C3  D3\n",
      "      A    B    C    D\n",
      "K0   A0   B0   C0   D0\n",
      "K1   A1   B1  NaN  NaN\n",
      "K2   A2   B2   C2   D2\n",
      "K3  NaN  NaN   C3   D3\n",
      "     A   B   C   D\n",
      "K0  A0  B0  C0  D0\n",
      "K2  A2  B2  C2  D2\n"
     ]
    }
   ],
   "source": [
    "import pandas as pd\n",
    "\n",
    "left = pd.DataFrame({'A': ['A0', 'A1', 'A2'],\n",
    "                     'B': ['B0', 'B1', 'B2']},\n",
    "                     index=['K0', 'K1', 'K2'])\n",
    "right = pd.DataFrame({'C': ['C0', 'C2', 'C3'],\n",
    "                      'D': ['D0', 'D2', 'D3']},\n",
    "                      index=['K0', 'K2', 'K3'])\n",
    "\n",
    "print(left)\n",
    "print(right)\n",
    "\n",
    "#并集\n",
    "res = pd.merge(left, right, left_index=True, right_index=True, how='outer')\n",
    "print(res)\n",
    "\n",
    "#交集\n",
    "res = pd.merge(left, right, left_index=True, right_index=True, how='inner')\n",
    "print(res)"
   ]
  },
  {
   "cell_type": "markdown",
   "id": "3bb949b0-a56b-440f-8c5d-0d39d178a031",
   "metadata": {},
   "source": [
    "#### 2.8 Pandas plot 出图"
   ]
  },
  {
   "cell_type": "code",
   "execution_count": 44,
   "id": "080badee-e932-46ec-bdc8-b583f9111204",
   "metadata": {},
   "outputs": [
    {
     "data": {
      "image/png": "[encoded data removed]",
      "text/plain": [
       "<Figure size 640x480 with 1 Axes>"
      ]
     },
     "metadata": {},
     "output_type": "display_data"
    }
   ],
   "source": [
    "import pandas as pd\n",
    "import numpy as np\n",
    "import matplotlib.pyplot as plt\n",
    "\n",
    "data = pd.Series(np.random.randn(10))\n",
    " \n",
    "data.plot()\n",
    "plt.show()"
   ]
  },
  {
   "cell_type": "code",
   "execution_count": 2,
   "id": "f92d82a5-ce06-4540-afde-4818f2c63a8a",
   "metadata": {},
   "outputs": [
    {
     "data": {
      "image/png": "[encoded data removed]",
      "text/plain": [
       "<Figure size 640x480 with 1 Axes>"
      ]
     },
     "metadata": {},
     "output_type": "display_data"
    }
   ],
   "source": [
    "import pandas as pd\n",
    "import numpy as np\n",
    "import matplotlib.pyplot as plt\n",
    "\n",
    "data = pd.DataFrame(np.random.randn(10, 4),\n",
    "                    columns=list(\"ABCD\"))\n",
    "data.cumsum()\n",
    "data.plot()\n",
    "plt.show()"
   ]
  }
 ],
 "metadata": {
  "kernelspec": {
   "display_name": "Python 3 (ipykernel)",
   "language": "python",
   "name": "python3"
  },
  "language_info": {
   "codemirror_mode": {
    "name": "ipython",
    "version": 3
   },
   "file_extension": ".py",
   "mimetype": "text/x-python",
   "name": "python",
   "nbconvert_exporter": "python",
   "pygments_lexer": "ipython3",
   "version": "3.11.7"
  }
 },
 "nbformat": 4,
 "nbformat_minor": 5
}
